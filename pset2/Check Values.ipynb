{
 "cells": [
  {
   "cell_type": "code",
   "execution_count": 1,
   "id": "b42d26cd",
   "metadata": {},
   "outputs": [],
   "source": [
    "import astropy.units as u\n",
    "from astropy.constants import k_B, G, M_earth, m_p, c, R_earth\n",
    "from numpy import pi, sqrt, exp"
   ]
  },
  {
   "cell_type": "markdown",
   "id": "8de133b6",
   "metadata": {},
   "source": [
    "# Q2"
   ]
  },
  {
   "cell_type": "code",
   "execution_count": 2,
   "id": "290c00a8",
   "metadata": {},
   "outputs": [],
   "source": [
    "T = 1e6 * u.K\n",
    "V = 40 * u.kpc ** 3\n",
    "n = 0.01 * u.cm ** -3"
   ]
  },
  {
   "cell_type": "code",
   "execution_count": 3,
   "id": "21531fba",
   "metadata": {},
   "outputs": [
    {
     "data": {
      "text/latex": [
       "$1.1751996 \\times 10^{64} \\; \\mathrm{}$"
      ],
      "text/plain": [
       "<Quantity 1.17519958e+64>"
      ]
     },
     "execution_count": 3,
     "metadata": {},
     "output_type": "execute_result"
    }
   ],
   "source": [
    "N = n*V\n",
    "N.decompose()"
   ]
  },
  {
   "cell_type": "code",
   "execution_count": 4,
   "id": "4c81f83b",
   "metadata": {},
   "outputs": [
    {
     "data": {
      "text/latex": [
       "$1.5739605 \\times 10^{8} \\; \\mathrm{\\frac{cm}{s}}$"
      ],
      "text/plain": [
       "<Quantity 1.57396052e+08 cm / s>"
      ]
     },
     "execution_count": 4,
     "metadata": {},
     "output_type": "execute_result"
    }
   ],
   "source": [
    "ymax = 12.25 # from wolframalpa\n",
    "vmax = ((m_p/ (2 * k_B * T)) ** (-.5) * ymax).cgs\n",
    "vmax"
   ]
  },
  {
   "cell_type": "code",
   "execution_count": 5,
   "id": "92b04cea",
   "metadata": {},
   "outputs": [
    {
     "data": {
      "text/latex": [
       "$0.52501672 \\; \\mathrm{\\frac{cm}{m}}$"
      ],
      "text/plain": [
       "<Quantity 0.52501672 cm / m>"
      ]
     },
     "execution_count": 5,
     "metadata": {},
     "output_type": "execute_result"
    }
   ],
   "source": [
    "vmax/c"
   ]
  },
  {
   "cell_type": "markdown",
   "id": "af0beb92",
   "metadata": {},
   "source": [
    "# Q3"
   ]
  },
  {
   "cell_type": "markdown",
   "id": "54d432e1",
   "metadata": {},
   "source": [
    "# d"
   ]
  },
  {
   "cell_type": "code",
   "execution_count": 6,
   "id": "828ec4e8",
   "metadata": {},
   "outputs": [],
   "source": [
    "m = 2* m_p\n",
    "T = 1e3 * u.K\n",
    "sig = (pi * u.Angstrom ** 2).cgs\n",
    "vesc = 11.2 * u.km / u.s\n",
    "g = (9.81 * u.m / u.s**2).cgs\n",
    "\n",
    "vs = sqrt(2 * k_B * T / m).cgs\n",
    "nesc = (m * g / (sig * k_B * T)).cgs\n",
    "lesc = (vesc ** 2 / vs ** 2).cgs"
   ]
  },
  {
   "cell_type": "code",
   "execution_count": 7,
   "id": "75b30eed",
   "metadata": {},
   "outputs": [
    {
     "data": {
      "text/latex": [
       "$3.1415927 \\times 10^{-16} \\; \\mathrm{cm^{2}}$"
      ],
      "text/plain": [
       "<Quantity 3.14159265e-16 cm2>"
      ]
     },
     "execution_count": 7,
     "metadata": {},
     "output_type": "execute_result"
    }
   ],
   "source": [
    "sig"
   ]
  },
  {
   "cell_type": "code",
   "execution_count": 8,
   "id": "cff091f4",
   "metadata": {},
   "outputs": [
    {
     "data": {
      "text/latex": [
       "$287304.71 \\; \\mathrm{\\frac{cm}{s}}$"
      ],
      "text/plain": [
       "<Quantity 287304.71205195 cm / s>"
      ]
     },
     "execution_count": 8,
     "metadata": {},
     "output_type": "execute_result"
    }
   ],
   "source": [
    "vs"
   ]
  },
  {
   "cell_type": "code",
   "execution_count": 9,
   "id": "8d83072d",
   "metadata": {},
   "outputs": [
    {
     "data": {
      "text/latex": [
       "$75659529 \\; \\mathrm{\\frac{1}{cm^{3}}}$"
      ],
      "text/plain": [
       "<Quantity 75659528.8692882 1 / cm3>"
      ]
     },
     "execution_count": 9,
     "metadata": {},
     "output_type": "execute_result"
    }
   ],
   "source": [
    "nesc"
   ]
  },
  {
   "cell_type": "code",
   "execution_count": 10,
   "id": "0180c5ad",
   "metadata": {},
   "outputs": [
    {
     "data": {
      "text/latex": [
       "$15.196744 \\; \\mathrm{}$"
      ],
      "text/plain": [
       "<Quantity 15.196744>"
      ]
     },
     "execution_count": 10,
     "metadata": {},
     "output_type": "execute_result"
    }
   ],
   "source": [
    "lesc"
   ]
  },
  {
   "cell_type": "code",
   "execution_count": 11,
   "id": "b9f31d51",
   "metadata": {},
   "outputs": [
    {
     "data": {
      "text/latex": [
       "$24955548 \\; \\mathrm{\\frac{1}{s\\,cm^{2}}}$"
      ],
      "text/plain": [
       "<Quantity 24955547.6072257 1 / (cm2 s)>"
      ]
     },
     "execution_count": 11,
     "metadata": {},
     "output_type": "execute_result"
    }
   ],
   "source": [
    "flux = nesc * vs * (1+lesc) * exp(-lesc) / (2 * sqrt(pi))\n",
    "flux"
   ]
  },
  {
   "cell_type": "code",
   "execution_count": 12,
   "id": "0216c9a1",
   "metadata": {},
   "outputs": [
    {
     "data": {
      "text/latex": [
       "$4.0259056 \\times 10^{42} \\; \\mathrm{}$"
      ],
      "text/plain": [
       "<Quantity 4.02590556e+42>"
      ]
     },
     "execution_count": 12,
     "metadata": {},
     "output_type": "execute_result"
    }
   ],
   "source": [
    "A = 4 * pi * R_earth ** 2\n",
    "((flux * A).cgs * 1 * u.Ga).cgs"
   ]
  },
  {
   "cell_type": "markdown",
   "id": "8030d7b3",
   "metadata": {},
   "source": [
    "# e"
   ]
  },
  {
   "cell_type": "code",
   "execution_count": 13,
   "id": "48b74ab6",
   "metadata": {},
   "outputs": [
    {
     "data": {
      "text/latex": [
       "$1.5118943 \\times 10^{-90} \\; \\mathrm{\\frac{1}{s\\,cm^{2}}}$"
      ],
      "text/plain": [
       "<Quantity 1.51189429e-90 1 / (cm2 s)>"
      ]
     },
     "execution_count": 13,
     "metadata": {},
     "output_type": "execute_result"
    }
   ],
   "source": [
    "m = 32 * m_p\n",
    "T = 1e3 * u.K\n",
    "sig = (pi * u.Angstrom ** 2).cgs\n",
    "vesc = 11.2 * u.km / u.s \n",
    "g = (9.81 * u.m / u.s**2).cgs\n",
    "\n",
    "vs = sqrt(2 * k_B * T / m).cgs\n",
    "nesc = (m * g / (sig * k_B * T)).cgs\n",
    "lesc = (vesc ** 2 / vs ** 2).cgs\n",
    "\n",
    "flux = nesc * vs * (1+lesc) * exp(-lesc) / (2 * sqrt(pi))\n",
    "flux"
   ]
  },
  {
   "cell_type": "code",
   "execution_count": 14,
   "id": "b11f379d",
   "metadata": {},
   "outputs": [
    {
     "data": {
      "text/latex": [
       "$243.1479 \\; \\mathrm{}$"
      ],
      "text/plain": [
       "<Quantity 243.14790405>"
      ]
     },
     "execution_count": 14,
     "metadata": {},
     "output_type": "execute_result"
    }
   ],
   "source": [
    "lesc"
   ]
  },
  {
   "cell_type": "code",
   "execution_count": 15,
   "id": "d1703ba3",
   "metadata": {},
   "outputs": [
    {
     "data": {
      "text/latex": [
       "$7.7288333 \\times 10^{-72} \\; \\mathrm{\\frac{1}{s}}$"
      ],
      "text/plain": [
       "<Quantity 7.7288333e-72 1 / s>"
      ]
     },
     "execution_count": 15,
     "metadata": {},
     "output_type": "execute_result"
    }
   ],
   "source": [
    "(flux * A).cgs "
   ]
  },
  {
   "cell_type": "code",
   "execution_count": 16,
   "id": "5dc77b37",
   "metadata": {},
   "outputs": [
    {
     "data": {
      "text/latex": [
       "$2.4390343 \\times 10^{-55} \\; \\mathrm{}$"
      ],
      "text/plain": [
       "<Quantity 2.4390343e-55>"
      ]
     },
     "execution_count": 16,
     "metadata": {},
     "output_type": "execute_result"
    }
   ],
   "source": [
    "((flux * A).cgs * 1 * u.Ga).cgs"
   ]
  }
 ],
 "metadata": {
  "kernelspec": {
   "display_name": "Python 3 (ipykernel)",
   "language": "python",
   "name": "python3"
  },
  "language_info": {
   "codemirror_mode": {
    "name": "ipython",
    "version": 3
   },
   "file_extension": ".py",
   "mimetype": "text/x-python",
   "name": "python",
   "nbconvert_exporter": "python",
   "pygments_lexer": "ipython3",
   "version": "3.9.7"
  }
 },
 "nbformat": 4,
 "nbformat_minor": 5
}
